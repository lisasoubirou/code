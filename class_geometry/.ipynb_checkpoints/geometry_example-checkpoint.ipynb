{
 "cells": [
  {
   "cell_type": "markdown",
   "id": "7e47975a",
   "metadata": {},
   "source": [
    "# Example use of the Geometry class"
   ]
  },
  {
   "cell_type": "code",
   "execution_count": 14,
   "id": "421a3e16",
   "metadata": {},
   "outputs": [
    {
     "ename": "ModuleNotFoundError",
     "evalue": "No module named 'geometry'",
     "output_type": "error",
     "traceback": [
      "\u001b[1;31m---------------------------------------------------------------------------\u001b[0m",
      "\u001b[1;31mModuleNotFoundError\u001b[0m                       Traceback (most recent call last)",
      "Cell \u001b[1;32mIn[14], line 6\u001b[0m\n\u001b[0;32m      4\u001b[0m \u001b[38;5;28;01mimport\u001b[39;00m \u001b[38;5;21;01msys\u001b[39;00m\n\u001b[0;32m      5\u001b[0m sys\u001b[38;5;241m.\u001b[39mpath\u001b[38;5;241m.\u001b[39mappend(\u001b[38;5;124m'\u001b[39m\u001b[38;5;124mC:\u001b[39m\u001b[38;5;124m\\\u001b[39m\u001b[38;5;124mmuco\u001b[39m\u001b[38;5;124m\\\u001b[39m\u001b[38;5;124mmhega\u001b[39m\u001b[38;5;130;01m\\r\u001b[39;00m\u001b[38;5;124mcsparameters\u001b[39m\u001b[38;5;124m'\u001b[39m)\n\u001b[1;32m----> 6\u001b[0m \u001b[38;5;28;01mfrom\u001b[39;00m \u001b[38;5;21;01mgeometry\u001b[39;00m\u001b[38;5;21;01m.\u001b[39;00m\u001b[38;5;21;01mclass_geo\u001b[39;00m \u001b[38;5;28;01mimport\u001b[39;00m Geometry\n",
      "\u001b[1;31mModuleNotFoundError\u001b[0m: No module named 'geometry'"
     ]
    }
   ],
   "source": [
    "import json\n",
    "import numpy as np\n",
    "import matplotlib.pyplot as plt\n",
    "import sys\n",
    "sys.path.append('C:\\muco\\mhega\\rcsparameters')\n",
    "from geometry.class_geo import Geometry"
   ]
  },
  {
   "cell_type": "markdown",
   "id": "91ba985d",
   "metadata": {},
   "source": [
    "Create a Geometry object and print the input parameters chosen in the file_input"
   ]
  },
  {
   "cell_type": "code",
   "execution_count": 5,
   "id": "d40059f4",
   "metadata": {},
   "outputs": [
    {
     "ename": "NameError",
     "evalue": "name 'Geometry' is not defined",
     "output_type": "error",
     "traceback": [
      "\u001b[1;31m---------------------------------------------------------------------------\u001b[0m",
      "\u001b[1;31mNameError\u001b[0m                                 Traceback (most recent call last)",
      "Cell \u001b[1;32mIn[5], line 2\u001b[0m\n\u001b[0;32m      1\u001b[0m file_input\u001b[38;5;241m=\u001b[39m\u001b[38;5;124m'\u001b[39m\u001b[38;5;124m/mnt/c/muco/mhega/rcsparameters/geometry/para_RCS_LHC.txt\u001b[39m\u001b[38;5;124m'\u001b[39m\n\u001b[1;32m----> 2\u001b[0m RCS \u001b[38;5;241m=\u001b[39m Geometry(file_input)\n",
      "\u001b[1;31mNameError\u001b[0m: name 'Geometry' is not defined"
     ]
    }
   ],
   "source": [
    "file_input='/mnt/c/muco/mhega/rcsparameters/geometry/para_RCS_LHC.txt'\n",
    "RCS = Geometry(file_input)\n",
    "\n",
    "print('Input parameters')\n",
    "print('Circumference  [m]', RCS.C)\n",
    "print('Injection energy [eV]',RCS.E_inj)\n",
    "print('Extraction energy [eV]',RCS.E_ext)\n",
    "print('Length of the straight section  [m]',RCS.LSSS) \n",
    "print('Dipole spacing  [m]', RCS.dipole_spacing) \n",
    "print('Number of arcs',RCS.nb_arc)\n",
    "print('Number of insertion',RCS.nb_RF_section)\n",
    "print('Number of cells per arc',RCS.nb_cell_arc)\n",
    "print('Dipole properties', RCS.dipoles)\n",
    "print('Dipole pattern of a half-cell',RCS.pattern)\n",
    "print('Filling ratio of the arcs', RCS.filling_ratio)\n",
    "print('Filling ratio of the RF',RCS.filling_ratio_RF)"
   ]
  },
  {
   "cell_type": "markdown",
   "id": "86184bb6",
   "metadata": {},
   "source": [
    "See some geometric parameters computed by the class"
   ]
  },
  {
   "cell_type": "code",
   "execution_count": 6,
   "id": "99557c85",
   "metadata": {},
   "outputs": [
    {
     "ename": "NameError",
     "evalue": "name 'RCS' is not defined",
     "output_type": "error",
     "traceback": [
      "\u001b[1;31m---------------------------------------------------------------------------\u001b[0m",
      "\u001b[1;31mNameError\u001b[0m                                 Traceback (most recent call last)",
      "Cell \u001b[1;32mIn[6], line 1\u001b[0m\n\u001b[1;32m----> 1\u001b[0m \u001b[38;5;28mprint\u001b[39m(\u001b[38;5;124m'\u001b[39m\u001b[38;5;124mTotal arc length [m]\u001b[39m\u001b[38;5;124m'\u001b[39m, RCS\u001b[38;5;241m.\u001b[39mtot_arc_length)\n\u001b[0;32m      2\u001b[0m \u001b[38;5;28mprint\u001b[39m(\u001b[38;5;124m'\u001b[39m\u001b[38;5;124mArc length [m]\u001b[39m\u001b[38;5;124m'\u001b[39m, RCS\u001b[38;5;241m.\u001b[39marc_length)\n\u001b[0;32m      3\u001b[0m \u001b[38;5;28mprint\u001b[39m(\u001b[38;5;124m'\u001b[39m\u001b[38;5;124mTotal insertion length [m]\u001b[39m\u001b[38;5;124m'\u001b[39m, RCS\u001b[38;5;241m.\u001b[39mtot_insertion_length)\n",
      "\u001b[1;31mNameError\u001b[0m: name 'RCS' is not defined"
     ]
    }
   ],
   "source": [
    "print('Total arc length [m]', RCS.tot_arc_length)\n",
    "print('Arc length [m]', RCS.arc_length)\n",
    "print('Total insertion length [m]', RCS.tot_insertion_length)\n",
    "print('Insertion length [m]', RCS.insertion_length)\n",
    "print('Cell length [m]', RCS.cell_length)\n",
    "print('Total length of dipole', RCS.dipole_length_tot)\n",
    "print('Dipole filling factor', RCS.filling_ratio_dipole)\n",
    "print('Dipole parameters', RCS.dipole_families)\n",
    "\n",
    "print('Total trajecory excursion',np.max(RCS.extrema(RCS.t_ext)[1])-np.min(RCS.extrema(RCS.t_inj)[0]))\n",
    "mask_nc=[item == 'BNC' for item in RCS.pattern]\n",
    "mask_sc=[item == 'BSC' for item in RCS.pattern]\n",
    "max_width_dip=RCS.extrema(RCS.t_ext)[1]-RCS.extrema(RCS.t_inj)[0]\n",
    "print('Max width in SC', np.max(max_width_dip[mask_sc]))\n",
    "print('Max width in NC',np.max(max_width_dip[mask_nc]))\n",
    "print('Max path length difference', RCS.max_path_diff)"
   ]
  },
  {
   "cell_type": "markdown",
   "id": "f1a74f81",
   "metadata": {},
   "source": [
    "Some methods provide parameters depending on time. Note that the time is normalised between 0 and 1. "
   ]
  },
  {
   "cell_type": "code",
   "execution_count": 9,
   "id": "3923d9c1",
   "metadata": {},
   "outputs": [
    {
     "ename": "NameError",
     "evalue": "name 'RCS' is not defined",
     "output_type": "error",
     "traceback": [
      "\u001b[1;31m---------------------------------------------------------------------------\u001b[0m",
      "\u001b[1;31mNameError\u001b[0m                                 Traceback (most recent call last)",
      "Cell \u001b[1;32mIn[9], line 1\u001b[0m\n\u001b[1;32m----> 1\u001b[0m \u001b[38;5;28mprint\u001b[39m(\u001b[38;5;124m'\u001b[39m\u001b[38;5;124mDipole angle\u001b[39m\u001b[38;5;124m'\u001b[39m,RCS\u001b[38;5;241m.\u001b[39mtheta(t_print))\n\u001b[0;32m      2\u001b[0m \u001b[38;5;28mprint\u001b[39m(\u001b[38;5;124m'\u001b[39m\u001b[38;5;124mWidth in dipoles\u001b[39m\u001b[38;5;124m'\u001b[39m, width)\n\u001b[0;32m      3\u001b[0m \u001b[38;5;28mprint\u001b[39m(\u001b[38;5;124m'\u001b[39m\u001b[38;5;124mMax apert no shift\u001b[39m\u001b[38;5;124m'\u001b[39m,max_apert_noshift)\n",
      "\u001b[1;31mNameError\u001b[0m: name 'RCS' is not defined"
     ]
    }
   ],
   "source": [
    "print('Dipole angle',RCS.theta(t_print))\n",
    "print('Width in dipoles', width)\n",
    "print('Max apert no shift',max_apert_noshift)\n",
    "print('Path length',RCS.path_length(t_print))\n",
    "print('Path length tot',RCS.path_length_tot(t_print))"
   ]
  },
  {
   "cell_type": "markdown",
   "id": "b7c548f1",
   "metadata": {},
   "source": [
    "The class has a method that plots the trajectory in a cell for a given time. "
   ]
  },
  {
   "cell_type": "code",
   "execution_count": 10,
   "id": "70f02db7",
   "metadata": {},
   "outputs": [
    {
     "ename": "NameError",
     "evalue": "name 'RCS' is not defined",
     "output_type": "error",
     "traceback": [
      "\u001b[1;31m---------------------------------------------------------------------------\u001b[0m",
      "\u001b[1;31mNameError\u001b[0m                                 Traceback (most recent call last)",
      "Cell \u001b[1;32mIn[10], line 2\u001b[0m\n\u001b[0;32m      1\u001b[0m n_traj\u001b[38;5;241m=\u001b[39m\u001b[38;5;241m8\u001b[39m\n\u001b[1;32m----> 2\u001b[0m t_traj\u001b[38;5;241m=\u001b[39mnp\u001b[38;5;241m.\u001b[39mlinspace(RCS\u001b[38;5;241m.\u001b[39mt_inj,RCS\u001b[38;5;241m.\u001b[39mt_ext,n_traj)\n\u001b[0;32m      3\u001b[0m RCS\u001b[38;5;241m.\u001b[39mplot_traj(t_traj)\n",
      "\u001b[1;31mNameError\u001b[0m: name 'RCS' is not defined"
     ]
    }
   ],
   "source": [
    "n_traj=8\n",
    "t_traj=np.linspace(RCS.t_inj,RCS.t_ext,n_traj)\n",
    "RCS.plot_traj(t_traj)"
   ]
  },
  {
   "cell_type": "markdown",
   "id": "8ebe7bf9",
   "metadata": {},
   "source": [
    "You can modify some parameters and the geometry is recomputed accordingly. "
   ]
  },
  {
   "cell_type": "code",
   "execution_count": 12,
   "id": "bccb4e1d",
   "metadata": {},
   "outputs": [
    {
     "ename": "NameError",
     "evalue": "name 'RCS' is not defined",
     "output_type": "error",
     "traceback": [
      "\u001b[1;31m---------------------------------------------------------------------------\u001b[0m",
      "\u001b[1;31mNameError\u001b[0m                                 Traceback (most recent call last)",
      "Cell \u001b[1;32mIn[12], line 1\u001b[0m\n\u001b[1;32m----> 1\u001b[0m \u001b[38;5;28mprint\u001b[39m(\u001b[38;5;124m'\u001b[39m\u001b[38;5;124mInitial number of cell per arc\u001b[39m\u001b[38;5;124m'\u001b[39m, RCS\u001b[38;5;241m.\u001b[39mnb_cell_arc)\n\u001b[0;32m      2\u001b[0m \u001b[38;5;28mprint\u001b[39m(\u001b[38;5;124m'\u001b[39m\u001b[38;5;124mInitial cell length\u001b[39m\u001b[38;5;124m'\u001b[39m, RCS\u001b[38;5;241m.\u001b[39mcell_length)\n\u001b[0;32m      3\u001b[0m RCS\u001b[38;5;241m.\u001b[39mnb_cell_arc \u001b[38;5;241m=\u001b[39m \u001b[38;5;241m22\u001b[39m\n",
      "\u001b[1;31mNameError\u001b[0m: name 'RCS' is not defined"
     ]
    }
   ],
   "source": [
    "print('Initial number of cell per arc', RCS.nb_cell_arc)\n",
    "print('Initial cell length', RCS.cell_length)\n",
    "RCS.nb_cell_arc = 22\n",
    "print('New number of cell per arc', RCS.nb_cell_arc)\n",
    "print('New cell length', RCS.cell_length)\n",
    "RCS.plot_traj(t_traj)"
   ]
  },
  {
   "cell_type": "markdown",
   "id": "79f17f06",
   "metadata": {},
   "source": [
    "Example of study that can be done: the total path length difference"
   ]
  },
  {
   "cell_type": "code",
   "execution_count": 13,
   "id": "6ac67d92",
   "metadata": {},
   "outputs": [
    {
     "ename": "NameError",
     "evalue": "name 'RCS' is not defined",
     "output_type": "error",
     "traceback": [
      "\u001b[1;31m---------------------------------------------------------------------------\u001b[0m",
      "\u001b[1;31mNameError\u001b[0m                                 Traceback (most recent call last)",
      "Cell \u001b[1;32mIn[13], line 2\u001b[0m\n\u001b[0;32m      1\u001b[0m n_plot\u001b[38;5;241m=\u001b[39m\u001b[38;5;241m15\u001b[39m\n\u001b[1;32m----> 2\u001b[0m t_np\u001b[38;5;241m=\u001b[39mnp\u001b[38;5;241m.\u001b[39mlinspace(RCS\u001b[38;5;241m.\u001b[39mt_inj,RCS\u001b[38;5;241m.\u001b[39mt_ext,n_plot)\n\u001b[0;32m      3\u001b[0m plt\u001b[38;5;241m.\u001b[39mfigure()\n\u001b[0;32m      4\u001b[0m plt\u001b[38;5;241m.\u001b[39mplot( t_np, [(RCS\u001b[38;5;241m.\u001b[39mpath_length_tot(t)\u001b[38;5;241m-\u001b[39mRCS\u001b[38;5;241m.\u001b[39mpath_length_min)\u001b[38;5;241m*\u001b[39m\u001b[38;5;241m1e3\u001b[39m \u001b[38;5;28;01mfor\u001b[39;00m t \u001b[38;5;129;01min\u001b[39;00m t_np])\n",
      "\u001b[1;31mNameError\u001b[0m: name 'RCS' is not defined"
     ]
    }
   ],
   "source": [
    "n_plot=15\n",
    "t_np=np.linspace(RCS.t_inj,RCS.t_ext,n_plot)\n",
    "plt.figure()\n",
    "plt.plot( t_np, [(RCS.path_length_tot(t)-RCS.path_length_min)*1e3 for t in t_np])\n",
    "plt.xlabel('Time normalised')\n",
    "plt.ylabel('Total path length difference [mm]')\n",
    "plt.show()"
   ]
  },
  {
   "cell_type": "code",
   "execution_count": null,
   "id": "09777a1f",
   "metadata": {},
   "outputs": [],
   "source": []
  }
 ],
 "metadata": {
  "kernelspec": {
   "display_name": "Python 3 (ipykernel)",
   "language": "python",
   "name": "python3"
  },
  "language_info": {
   "codemirror_mode": {
    "name": "ipython",
    "version": 3
   },
   "file_extension": ".py",
   "mimetype": "text/x-python",
   "name": "python",
   "nbconvert_exporter": "python",
   "pygments_lexer": "ipython3",
   "version": "3.11.5"
  }
 },
 "nbformat": 4,
 "nbformat_minor": 5
}
